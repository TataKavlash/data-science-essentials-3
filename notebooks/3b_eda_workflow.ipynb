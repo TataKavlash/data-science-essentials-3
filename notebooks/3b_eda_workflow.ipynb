{
 "cells": [
  {
   "cell_type": "markdown",
   "metadata": {},
   "source": [
    "### Exploratory Data Analysis (EDA) is an important part of the Analytics Workflow. \n",
    "- It is the stage where you get to know your data very well. \n",
    "- EDA makes use of both methods and visualisations."
   ]
  },
  {
   "cell_type": "code",
   "execution_count": null,
   "metadata": {},
   "outputs": [],
   "source": [
    "import pandas as pd\n",
    "import matplotlib.pyplot as plt\n",
    "import seaborn as sns\n",
    "\n",
    "%matplotlib inline"
   ]
  },
  {
   "cell_type": "markdown",
   "metadata": {},
   "source": [
    "#### For this notebook, we are using a fabricated dataset called `people.csv`"
   ]
  },
  {
   "cell_type": "code",
   "execution_count": null,
   "metadata": {},
   "outputs": [],
   "source": [
    "people_df = pd.read_csv('../data/people.csv')\n",
    "people_df.head()"
   ]
  },
  {
   "cell_type": "markdown",
   "metadata": {},
   "source": [
    "### The pandas module has several dataframe methods that are useful for getting to know your data.\n",
    "- `info()` tells you how many rows and columns you have, which columns (variables) have missing values, datatypes for each variable and how much memory the data requires.\n",
    "- `describe()` provides statistical information about each variable in the dataset"
   ]
  },
  {
   "cell_type": "markdown",
   "metadata": {},
   "source": [
    "1. Which columns have missing values?\n",
    "2. What's the maximum sibling count for people in the dataset?\n",
    "3. What is the average BMI for all observations (rows) in the dataset? What's the median?"
   ]
  },
  {
   "cell_type": "code",
   "execution_count": null,
   "metadata": {},
   "outputs": [],
   "source": [
    "people_df.info()"
   ]
  },
  {
   "cell_type": "code",
   "execution_count": null,
   "metadata": {
    "scrolled": true
   },
   "outputs": [],
   "source": [
    "people_df.describe()"
   ]
  },
  {
   "cell_type": "markdown",
   "metadata": {},
   "source": [
    "### Another handy way to get an idea of missingness in the data is to call `isnull( ). sum( )` on the dataframe\n",
    "- how does this work?"
   ]
  },
  {
   "cell_type": "code",
   "execution_count": null,
   "metadata": {},
   "outputs": [],
   "source": [
    "people_df.isnull().sum()"
   ]
  },
  {
   "cell_type": "markdown",
   "metadata": {},
   "source": [
    "### The `value_counts( )` method gives you a quick idea of the distribution of  _unique values_ in a column"
   ]
  },
  {
   "cell_type": "code",
   "execution_count": null,
   "metadata": {},
   "outputs": [],
   "source": [
    "people_df.sex.value_counts()"
   ]
  },
  {
   "cell_type": "markdown",
   "metadata": {},
   "source": [
    "### Uniqueness can be examined with `unique( )` which returns all unique values or `nunique( )` which counts them"
   ]
  },
  {
   "cell_type": "code",
   "execution_count": null,
   "metadata": {},
   "outputs": [],
   "source": [
    "people_df.name.nunique()"
   ]
  },
  {
   "cell_type": "markdown",
   "metadata": {},
   "source": [
    "### You can call `.plot( )` on a dataframe to see all numerical variables plotted at the same time\n",
    "- not so useful if variables are on different scales!"
   ]
  },
  {
   "cell_type": "code",
   "execution_count": null,
   "metadata": {},
   "outputs": [],
   "source": [
    "people_df.plot();"
   ]
  },
  {
   "cell_type": "markdown",
   "metadata": {},
   "source": [
    "### A more useful way to plot all variables at the same time is a pairplot or correlation plot\n",
    "- distribution of the variable is shown in histograms along the diagonal\n",
    "- scatterplots plot two variables at a time and give an indication of which variables may be correlated"
   ]
  },
  {
   "cell_type": "code",
   "execution_count": null,
   "metadata": {
    "scrolled": false
   },
   "outputs": [],
   "source": [
    "sns.set(style=\"ticks\", color_codes=True)\n",
    "sns.pairplot(people_df);"
   ]
  },
  {
   "cell_type": "markdown",
   "metadata": {},
   "source": [
    "### We'll use matplotlib and seaborn to examine additional plots and what they help communicate"
   ]
  },
  {
   "cell_type": "markdown",
   "metadata": {},
   "source": [
    "- to look at the distribution of continuous data, a histogram is most frequently used"
   ]
  },
  {
   "cell_type": "code",
   "execution_count": null,
   "metadata": {},
   "outputs": [],
   "source": [
    "plt.hist('bmi', data = people_df);"
   ]
  },
  {
   "cell_type": "markdown",
   "metadata": {},
   "source": [
    "- to look at counts of discrete data, a barplot is often used"
   ]
  },
  {
   "cell_type": "code",
   "execution_count": null,
   "metadata": {},
   "outputs": [],
   "source": [
    "plt.bar('name', 'sibling_count', data = people_df)\n",
    "plt.xticks(rotation = 70)\n",
    "plt.title('Number of Siblings');"
   ]
  },
  {
   "cell_type": "markdown",
   "metadata": {},
   "source": [
    "- sorting the data first on the variable you are counting helps the readibility of a barplot"
   ]
  },
  {
   "cell_type": "code",
   "execution_count": null,
   "metadata": {},
   "outputs": [],
   "source": [
    "data = people_df.sort_values('sibling_count')\n",
    "plt.bar('name', 'sibling_count', data = data)\n",
    "plt.xticks(rotation = 70)\n",
    "plt.title('Number of Siblings');"
   ]
  },
  {
   "cell_type": "markdown",
   "metadata": {},
   "source": [
    "### The basic `plot( )` method in the `matpotlib pyplot` module is versatile. \n",
    "- It is generally used to create line plots, but can be used for scatterplots with the `linestyle =` argument set to `'none'` as below"
   ]
  },
  {
   "cell_type": "code",
   "execution_count": null,
   "metadata": {},
   "outputs": [],
   "source": [
    "plt.plot('height', 'weight', marker = 'o', linestyle = 'none', data = people_df)\n",
    "plt.xlabel('height in inches')\n",
    "plt.ylabel('weight in pounds');"
   ]
  },
  {
   "cell_type": "markdown",
   "metadata": {},
   "source": [
    "### The `scatter( )` method is a more direct way to create a scatterplot"
   ]
  },
  {
   "cell_type": "code",
   "execution_count": null,
   "metadata": {},
   "outputs": [],
   "source": [
    "plt.scatter('height', 'weight', data = people_df)\n",
    "plt.xlabel('height in inches')\n",
    "plt.ylabel('weight in pounds');"
   ]
  },
  {
   "cell_type": "code",
   "execution_count": null,
   "metadata": {},
   "outputs": [],
   "source": [
    "plt.scatter('weight', 'bmi', data = people_df)\n",
    "plt.xlabel('weight in pounds')\n",
    "plt.ylabel('BMI');"
   ]
  },
  {
   "cell_type": "markdown",
   "metadata": {},
   "source": [
    "### Matplotlib can get pretty fancy as in the plot below\n",
    "- horizontal lines to show boundaries for `overweight` and `obese`\n",
    "- annotations to label those boundaries"
   ]
  },
  {
   "cell_type": "code",
   "execution_count": null,
   "metadata": {},
   "outputs": [],
   "source": [
    "plt.figure(figsize=(10, 6))\n",
    "plt.scatter('weight', 'bmi', data = people_df, color = 'darkblue')\n",
    "plt.hlines(y=25, xmin = 0, xmax = 250, color = 'orange')\n",
    "plt.hlines(y=30, xmin = 0, xmax = 250, color = 'red')\n",
    "plt.xlim(0, 250)\n",
    "plt.ylim(0, 34)\n",
    "plt.annotate(s = ' overweight', xy = (0, 26))\n",
    "plt.annotate(s = ' obese', xy = (0, 31))\n",
    "plt.xlabel('weight in pounds')\n",
    "plt.ylabel('BMI')\n",
    "plt.title('Observed BMI for People');"
   ]
  },
  {
   "cell_type": "markdown",
   "metadata": {},
   "source": [
    "### The `seaborn` package makes prettier plots\n",
    "- boxplots are another way to look at the distribution of a variable. The top and bottom borders of the blue rectangle define the 3rd and 1st quartiles. The middle line is the 2nd quartile (median). The lines parallell to the rectangle (called whiskers) indicate the range of data in the distribution. Outliers will appear as dots beyond these lines."
   ]
  },
  {
   "cell_type": "code",
   "execution_count": null,
   "metadata": {},
   "outputs": [],
   "source": [
    "sns.boxplot(y=people_df.weight);"
   ]
  },
  {
   "cell_type": "markdown",
   "metadata": {},
   "source": [
    "### adding a value for `x` tells seaborn to create multiple boxplots, one for each unique value in the specified `x` "
   ]
  },
  {
   "cell_type": "code",
   "execution_count": null,
   "metadata": {},
   "outputs": [],
   "source": [
    "sns.boxplot(y=people_df.weight, x = people_df.sex, )\n",
    "plt.title('distribution of weights by sex');\n",
    "#plt.xlabel('')"
   ]
  },
  {
   "cell_type": "markdown",
   "metadata": {},
   "source": [
    "### Two more plots that can be helpful in getting to know the data (particularly with large datasets) are strip plots and swarm plots.\n",
    "- adding jitter to a strip plot randomly moves the dots a bit off their actual location (which is similar to what a swarm plot does)"
   ]
  },
  {
   "cell_type": "code",
   "execution_count": null,
   "metadata": {},
   "outputs": [],
   "source": [
    "sns.stripplot(x=people_df.sex, y=people_df.height, jitter = False);"
   ]
  },
  {
   "cell_type": "code",
   "execution_count": null,
   "metadata": {},
   "outputs": [],
   "source": [
    "sns.swarmplot(x=people_df.sex, y=people_df.height);"
   ]
  },
  {
   "cell_type": "code",
   "execution_count": null,
   "metadata": {},
   "outputs": [],
   "source": []
  }
 ],
 "metadata": {
  "kernelspec": {
   "display_name": "Python 3",
   "language": "python",
   "name": "python3"
  },
  "language_info": {
   "codemirror_mode": {
    "name": "ipython",
    "version": 3
   },
   "file_extension": ".py",
   "mimetype": "text/x-python",
   "name": "python",
   "nbconvert_exporter": "python",
   "pygments_lexer": "ipython3",
   "version": "3.7.4"
  }
 },
 "nbformat": 4,
 "nbformat_minor": 2
}
